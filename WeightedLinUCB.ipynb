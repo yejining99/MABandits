{
 "cells": [
  {
   "cell_type": "code",
   "execution_count": 1,
   "metadata": {},
   "outputs": [],
   "source": [
    "import numpy as np\n",
    "import pandas as pd\n",
    "import matplotlib.pyplot as plt"
   ]
  },
  {
   "cell_type": "code",
   "execution_count": 55,
   "metadata": {},
   "outputs": [],
   "source": [
    "def LinUCB(alpha, K, d, t):\n",
    "    \n",
    "    # initial\n",
    "    A = np.identity(d)\n",
    "    b = np.zeros((d,1))\n",
    "    #X = np.array([[0.1,0.2,0.8,0.3,0.7],[0.2,0.5,0.4,0.2,0.5],[0.3,0.4,0.2,0.5,0.1]])\n",
    "    #X = np.random.rand(d,K)\n",
    "    #theta_true = np.array([[0.2],[0.2],[0.2]])\n",
    "    theta_true = np.random.rand(d,1)\n",
    "    graph = pd.DataFrame(None, columns=['time','regret'])\n",
    "    \n",
    "    # Repeat K\n",
    "    for i in range(t):\n",
    "        theta = np.dot(np.linalg.inv(A),b)\n",
    "        p = []\n",
    "        X = np.random.rand(d,K)\n",
    "        \n",
    "        # calculate UCB\n",
    "        for j in range(K):\n",
    "            X_ = X[:,j].reshape((-1,1))\n",
    "            p_ = np.dot(np.transpose(theta),X_)+alpha*np.sqrt(np.dot(np.dot(np.transpose(X_),np.linalg.inv(A)),X_))\n",
    "            p.append(p_[0])\n",
    "            \n",
    "        # choose Max\n",
    "        a = p.index(max(p))\n",
    "        X_a = X[:,a].reshape((-1,1))\n",
    "        \n",
    "        \n",
    "        # calculate payoff\n",
    "        r = np.dot(np.transpose(X_a),theta_true)\n",
    "        \n",
    "        # update A and b\n",
    "        A = A+np.dot(X_a,np.transpose(X_a))\n",
    "        b = b+np.dot(X_a,r)\n",
    "        \n",
    "        # regret\n",
    "        ## 누적합으로 바꾸기\n",
    "        \n",
    "        regret = np.dot(np.transpose(X_a),theta_true)-np.dot(np.transpose(X_a),theta)\n",
    "        graph = graph.append({'time':i,'regret':regret},ignore_index=True)\n",
    "    \n",
    "    # 그래프그리기\n",
    "    graph['accumulated_regret']=graph['regret'].cumsum()\n",
    "     \n",
    "    \"\"\"    \n",
    "    x=graph['time']\n",
    "    y=graph['accumulated_regret']\n",
    "        \n",
    "    plt.plot(x,y)\n",
    "    plt.xlabel('time')\n",
    "    plt.ylabel('accumulated regret')\n",
    "    plt.title('LinUCB')\n",
    "    plt.show()\n",
    "    \n",
    "    \"\"\"\n",
    "    return graph"
   ]
  },
  {
   "cell_type": "code",
   "execution_count": 56,
   "metadata": {},
   "outputs": [],
   "source": [
    "def WLinUCB(alpha, K, d, t):\n",
    "    \n",
    "    # initial\n",
    "    A = np.identity(d)\n",
    "    b = np.zeros((d,1))\n",
    "    #X = np.array([[0.1,0.2,0.8,0.3,0.7],[0.2,0.5,0.4,0.2,0.5],[0.3,0.4,0.2,0.5,0.1]])\n",
    "    #X = np.random.rand(d,K)\n",
    "    #theta_true = np.array([[0.2],[0.2],[0.2]])\n",
    "    theta_true = np.random.rand(d,1)\n",
    "    graph2 = pd.DataFrame(None, columns=['time','regret'])\n",
    "    \n",
    "    # Repeat K\n",
    "    for i in range(t):\n",
    "        theta = np.dot(np.linalg.inv(A),b)\n",
    "        p = []\n",
    "        X = np.random.rand(d,K)\n",
    "        \n",
    "        # calculate UCB\n",
    "        for j in range(K):\n",
    "            X_ = X[:,j].reshape((-1,1))\n",
    "            p_ = np.dot(np.transpose(theta),X_)+alpha*np.sqrt(np.dot(np.dot(np.transpose(X_),np.linalg.inv(A)),X_))\n",
    "            p.append(p_[0])\n",
    "            \n",
    "        # choose Max\n",
    "        a = p.index(max(p))\n",
    "        X_a = X[:,a].reshape((-1,1))\n",
    "        \n",
    "        \n",
    "        # calculate payoff\n",
    "        r = np.dot(np.transpose(X_a),theta_true)\n",
    "        \n",
    "        # update w, A and b\n",
    "        w = np.random.rand(1,1)\n",
    "        A = A+np.dot(np.dot(X_a,w),np.transpose(X_a))\n",
    "        b = b+np.dot(np.dot(X_a,w),r)\n",
    "        \n",
    "        # regret\n",
    "        ## 누적합으로 바꾸기\n",
    "        \n",
    "        regret = np.dot(np.transpose(X_a),theta_true)-np.dot(np.transpose(X_a),theta)\n",
    "        graph2 = graph2.append({'time':i,'regret2':regret},ignore_index=True)\n",
    "    \n",
    "    # 그래프그리기\n",
    "\n",
    "    graph2['accumulated_regret2']=graph2['regret2'].cumsum()\n",
    "    \"\"\" \n",
    "    x=graph2['time']\n",
    "    y=graph2['accumulated_regret']\n",
    "        \n",
    "    plt.plot(x,y)\n",
    "    plt.xlabel('time')\n",
    "    plt.ylabel('accumulated regret')\n",
    "    plt.title('LinUCB')\n",
    "    plt.show()\n",
    "    \"\"\"\n",
    "    \n",
    "    return graph2"
   ]
  },
  {
   "cell_type": "code",
   "execution_count": 142,
   "metadata": {},
   "outputs": [
    {
     "name": "stdout",
     "output_type": "stream",
     "text": [
      "1 ....\n",
      "2 ....\n",
      "3 ....\n",
      "3 번째만에 됨\n"
     ]
    },
    {
     "data": {
      "image/png": "[encoded data removed]",
      "text/plain": [
       "<Figure size 432x288 with 1 Axes>"
      ]
     },
     "metadata": {
      "needs_background": "light"
     },
     "output_type": "display_data"
    }
   ],
   "source": [
    "cnt = 0\n",
    "while True:\n",
    "    cnt=cnt+1\n",
    "    print(cnt,'....')\n",
    "    graph = LinUCB(0.8,5,3,1000)\n",
    "    graph2 = WLinUCB(0.8,5,3,1000)\n",
    "    \n",
    "    if graph['accumulated_regret'][500]>graph2['accumulated_regret2'][500]:\n",
    "        print(cnt,'번째만에 됨')\n",
    "\n",
    "        plt.plot(graph['time'],graph['accumulated_regret'],'r',label='LinUCB')\n",
    "        plt.plot(graph2['time'],graph2['accumulated_regret2'],'b',label='WLinUCB')\n",
    "        plt.legend(loc='upper right')\n",
    "        plt.show()\n",
    "        \n",
    "        break\n",
    "        \n",
    "        "
   ]
  },
  {
   "cell_type": "code",
   "execution_count": null,
   "metadata": {},
   "outputs": [],
   "source": []
  },
  {
   "cell_type": "code",
   "execution_count": null,
   "metadata": {},
   "outputs": [],
   "source": []
  },
  {
   "cell_type": "code",
   "execution_count": null,
   "metadata": {},
   "outputs": [],
   "source": []
  }
 ],
 "metadata": {
  "kernelspec": {
   "display_name": "Python 3",
   "language": "python",
   "name": "python3"
  },
  "language_info": {
   "codemirror_mode": {
    "name": "ipython",
    "version": 3
   },
   "file_extension": ".py",
   "mimetype": "text/x-python",
   "name": "python",
   "nbconvert_exporter": "python",
   "pygments_lexer": "ipython3",
   "version": "3.8.5"
  }
 },
 "nbformat": 4,
 "nbformat_minor": 4
}
